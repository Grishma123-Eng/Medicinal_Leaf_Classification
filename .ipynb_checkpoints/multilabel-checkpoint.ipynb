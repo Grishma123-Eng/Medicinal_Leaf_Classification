{
 "cells": [
  {
   "cell_type": "code",
   "execution_count": null,
   "metadata": {
    "id": "uSuxWA_hz63D"
   },
   "outputs": [],
   "source": [
    "import matplotlib.pyplot as plt\n",
    "import seaborn as sns\n",
    "import keras\n",
    "from PIL import Image\n",
    "from keras.models import Sequential\n",
    "from keras.layers import MaxPooling2D,Flatten,Dense,Conv2D,Activation,Dropout\n",
    "from keras.preprocessing.image import ImageDataGenerator\n",
    "from keras.optimizers import Adam\n",
    "from tensorflow.keras.losses import categorical_crossentropy\n",
    "from sklearn.metrics import classification_report,confusion_matrix\n",
    "import tensorflow as tf\n",
    "import cv2\n",
    "import os\n",
    "import numpy as np\n",
    "from keras.layers.normalization import BatchNormalization\n",
    "from sklearn.model_selection import train_test_split\n",
    "from keras.utils import np_utils\n",
    "import pandas as pd\n"
   ]
  },
  {
   "cell_type": "code",
   "execution_count": null,
   "metadata": {
    "id": "BuwJNm5GvBDT"
   },
   "outputs": [],
   "source": []
  },
  {
   "cell_type": "code",
   "execution_count": null,
   "metadata": {
    "id": "doi-PiIeL_mN"
   },
   "outputs": [],
   "source": [
    "datagen = tf.keras.preprocessing.image.ImageDataGenerator(\n",
    "\n",
    "    featurewise_center=False,\n",
    "    samplewise_center=False,\n",
    "    featurewise_std_normalization=False,\n",
    "    samplewise_std_normalization=False,\n",
    "    zca_whitening=False,\n",
    "    zca_epsilon=1e-06,\n",
    "    rotation_range=20,\n",
    "    width_shift_range=0.2,\n",
    "    height_shift_range=0.2,\n",
    "    shear_range=0.3,\n",
    "    zoom_range=0.3,\n",
    "    fill_mode=\"nearest\",\n",
    "    cval=0.0,\n",
    "    horizontal_flip=True,\n",
    "    vertical_flip=True,\n",
    "    rescale = 1./255,\n",
    "    preprocessing_function=None,\n",
    "    data_format=None,\n",
    "    validation_split=0.0,\n",
    "    dtype=None,\n",
    ")"
   ]
  },
  {
   "cell_type": "code",
   "execution_count": null,
   "metadata": {
    "colab": {
     "base_uri": "https://localhost:8080/"
    },
    "id": "EvFCWyh-MZze",
    "outputId": "22a87df1-c096-4b12-8d15-d360dadcc910"
   },
   "outputs": [],
   "source": [
    "# load and iterate training dataset\n",
    "train_it = datagen.flow_from_directory('C:/Users/ADMIN PC/Downloads/medicina Leaf project/medicine/train', class_mode='categorical', target_size=(150, 150))\n",
    "# load and iterate test dataset\n",
    "test_it = datagen.flow_from_directory('C:/Users/ADMIN PC/Downloads/medicina Leaf project/medicine/test', class_mode='categorical', target_size=(150, 150))"
   ]
  },
  {
   "cell_type": "code",
   "execution_count": null,
   "metadata": {
    "id": "xhAXAPjvNBNC"
   },
   "outputs": [],
   "source": [
    "## model architecture\n",
    "model = tf.keras.models.Sequential([\n",
    "    # first convolution\n",
    "    tf.keras.layers.Conv2D(64, (3,3), activation=\"relu\", input_shape=(150,150, 3)),\n",
    "    tf.keras.layers.MaxPooling2D(2,2),\n",
    "    # second convolution\n",
    "    tf.keras.layers.Conv2D(64, (3,3), activation=\"relu\"),\n",
    "    tf.keras.layers.MaxPooling2D(2,2),\n",
    "    # third convolution layer\n",
    "    tf.keras.layers.Conv2D(128, (3,3), activation=\"relu\"),\n",
    "    tf.keras.layers.MaxPooling2D(2,2),\n",
    "    # fourth convolution layer\n",
    "    tf.keras.layers.Conv2D(128, (3,3), activation=\"relu\"),\n",
    "    tf.keras.layers.MaxPooling2D(2,2),\n",
    "    # flatten before feeding into Dense neural network. \n",
    "    tf.keras.layers.Flatten(),\n",
    "    # 512 neurons in the hidden layer\n",
    "    tf.keras.layers.Dense(512, activation=\"relu\"),\n",
    "    # 15 = 15 different categories\n",
    "    # softmas takes a set of values and effectively picks the biggest one. for example if the output layer has\n",
    "    # [0.1,0.1,0.5,0.2,0.1], it will take it and turn it into [0,0,1,0,0]\n",
    "    tf.keras.layers.Dense(12, activation=\"softmax\")\n",
    "]);"
   ]
  },
  {
   "cell_type": "code",
   "execution_count": null,
   "metadata": {
    "colab": {
     "base_uri": "https://localhost:8080/"
    },
    "id": "M2xLvLbdSNM2",
    "outputId": "d3e34287-16a4-4038-b129-2c3925f73de7"
   },
   "outputs": [],
   "source": [
    "model.summary()"
   ]
  },
  {
   "cell_type": "code",
   "execution_count": null,
   "metadata": {
    "id": "ce6kspeIe5WG"
   },
   "outputs": [],
   "source": [
    "# implementing a callback function to terminate training once training reaches 98% accuracy for validation data\n",
    "\n",
    "validation_accuracy = 0.98\n",
    "\n",
    "class myCallback(tf.keras.callbacks.Callback):\n",
    "    def on_epoch_end(self, epoch, logs={}):\n",
    "        if(logs.get(\"val_accuracy\") >= validation_accuracy):\n",
    "            print(\"\\nReached desired validation accuracy, so cancelling training\")\n",
    "            self.model.stop_training=True\n",
    "            \n",
    "callbacks = myCallback()"
   ]
  },
  {
   "cell_type": "code",
   "execution_count": null,
   "metadata": {
    "id": "ZZXA-4VTON56"
   },
   "outputs": [],
   "source": [
    "model.compile(loss = \"categorical_crossentropy\", optimizer='rmsprop', metrics=['accuracy'])"
   ]
  },
  {
   "cell_type": "code",
   "execution_count": null,
   "metadata": {
    "colab": {
     "base_uri": "https://localhost:8080/"
    },
    "id": "PGOL0SB7PrnS",
    "outputId": "820cfa54-3c6c-4d47-9cea-5ee137bb8eae"
   },
   "outputs": [],
   "source": [
    "med_model = model.fit_generator(train_it,epochs=50, validation_data=test_it, verbose=1)\n",
    "\n",
    "filepath = r\"/content/drive/MyDrive/savedmodeleaves\"\n",
    "tf.keras.models.save_model(\n",
    "    model,\n",
    "    filepath,\n",
    "    overwrite=True,\n",
    "    include_optimizer=True,\n",
    "    save_format=\"tf\",\n",
    "    signatures=None\n",
    ")\n",
    "\n",
    "model.save(\"medgen.h5\")"
   ]
  },
  {
   "cell_type": "code",
   "execution_count": null,
   "metadata": {
    "id": "gZ9YkjQPT1TV"
   },
   "outputs": [],
   "source": [
    "# loading saved model for verification. \n",
    "# loading using two methods. One is using .h5 file and loading using file path. \n",
    "\n",
    "# loading using .h5 file\n",
    "new_med_model = tf.keras.models.load_model(\n",
    "    \"medgen.h5\",\n",
    "    custom_objects=None,\n",
    "    compile=True\n",
    ")"
   ]
  },
  {
   "cell_type": "code",
   "execution_count": null,
   "metadata": {
    "colab": {
     "base_uri": "https://localhost:8080/"
    },
    "id": "d53Qm9zw1k6V",
    "outputId": "d130b39a-0629-4340-874d-4d397c7108bf"
   },
   "outputs": [],
   "source": [
    "new_med_model.summary()"
   ]
  },
  {
   "cell_type": "code",
   "execution_count": null,
   "metadata": {
    "id": "jGtEEzNj17l5"
   },
   "outputs": [],
   "source": [
    "model_dir = r\"/content/drive/MyDrive/savedmodeleaves\"\n",
    "\n",
    "# loading using .h5 file\n",
    "new_med_model_v2 = tf.keras.models.load_model(\n",
    "    model_dir,\n",
    "    custom_objects=None,\n",
    "    compile=True\n",
    ")"
   ]
  },
  {
   "cell_type": "code",
   "execution_count": null,
   "metadata": {
    "colab": {
     "base_uri": "https://localhost:8080/"
    },
    "id": "Zu9Wj3Nj2TeH",
    "outputId": "762fa94b-4e00-4c0d-c185-b33f1e39693d"
   },
   "outputs": [],
   "source": [
    "new_med_model_v2.summary()"
   ]
  },
  {
   "cell_type": "code",
   "execution_count": null,
   "metadata": {
    "colab": {
     "base_uri": "https://localhost:8080/"
    },
    "id": "yBI1GMiUN09U",
    "outputId": "36a47ce2-90cb-441b-f24d-c0f6fe540238"
   },
   "outputs": [],
   "source": [
    "\n",
    "from keras_preprocessing import image\n",
    "labels = ['Alpinia Galanga (Rasna)', 'Citrus Limon (Lemon)','Ficus Religiosa (Peepal Tree)','Hibiscus Rosa-sinensis','Mentha (Mint)','Moringa Oleifera (Drumstick)','Murraya Koenigii (Curry)','Ocimum Tenuiflorum (Tulsi)','Psidium Guajava (Guava)','Punica Granatum (Pomegranate)','Santalum Album (Sandalwood)','Syzygium Cumini (Jamun)']\n",
    "image_dir = r\"/content/drive/MyDrive/pre\"\n",
    "img_list = os.listdir(image_dir)\n",
    "\n",
    "for leaves in img_list:\n",
    "    path = os.path.join(image_dir, leaves)\n",
    "    img = image.load_img(path, target_size = (150, 150))\n",
    "    array = image.img_to_array(img)\n",
    "    x = np.expand_dims(array, axis=0)\n",
    "\n",
    "    vimage = np.vstack([x])\n",
    "    img_classification = model.predict(vimage)\n",
    "    y_classes = np.argmax(img_classification)\n",
    "    print(labels[y_classes])\n"
   ]
  },
  {
   "cell_type": "code",
   "execution_count": null,
   "metadata": {
    "colab": {
     "base_uri": "https://localhost:8080/",
     "height": 748
    },
    "id": "2VADTp-4Gmu9",
    "outputId": "7c1692ce-9d06-4054-edb6-6c0a695d4ca6"
   },
   "outputs": [],
   "source": [
    "  img = []\n",
    "  images = image.load_img(\"/content/drive/MyDrive/pre/OT-S-047.jpg\", target_size=(150,150))    \n",
    "  x = image.img_to_array(images)\n",
    "  x = tf.image.rgb_to_grayscale(x)\n",
    "  x = np.expand_dims(x, axis=0)\n",
    "  x = x/255.0\n",
    "  predy = (model.predict(x) > 0.5).astype(\"int32\")\n",
    "  y_classes = np.argmax(to_categorical(predy))\n",
    "  print(categories[y_classes])"
   ]
  },
  {
   "cell_type": "code",
   "execution_count": null,
   "metadata": {
    "colab": {
     "base_uri": "https://localhost:8080/"
    },
    "id": "EnoVvRqm3v6R",
    "outputId": "7965b93e-d584-49bb-9de4-a4e4c77343b7"
   },
   "outputs": [],
   "source": [
    "loss,acc = new_med_model.evaluate(test_it, verbose=2)\n",
    "print(\"Restored model, accuracy: {:5.2f}%\".format(100*acc))"
   ]
  },
  {
   "cell_type": "code",
   "execution_count": null,
   "metadata": {
    "colab": {
     "base_uri": "https://localhost:8080/",
     "height": 324
    },
    "id": "Jzy5mBZOMY85",
    "outputId": "206c5671-962a-4484-914f-b983bc333119"
   },
   "outputs": [],
   "source": [
    "pd.DataFrame(med_model.history).plot(figsize=(8, 5))\n",
    "plt.grid(True)\n",
    "plt.gca().set_ylim(0, 1) \n",
    "plt.show()"
   ]
  },
  {
   "cell_type": "code",
   "execution_count": null,
   "metadata": {
    "id": "HUK7E7Fa2ylV"
   },
   "outputs": [],
   "source": []
  },
  {
   "cell_type": "code",
   "execution_count": null,
   "metadata": {
    "id": "PqS5mPVC0xnO"
   },
   "outputs": [],
   "source": []
  },
  {
   "cell_type": "code",
   "execution_count": null,
   "metadata": {
    "id": "VWjNwcL56S05"
   },
   "outputs": [],
   "source": []
  }
 ],
 "metadata": {
  "accelerator": "GPU",
  "colab": {
   "collapsed_sections": [],
   "name": "multilabel.ipynb",
   "provenance": []
  },
  "kernelspec": {
   "display_name": "Python 3",
   "language": "python",
   "name": "python3"
  },
  "language_info": {
   "codemirror_mode": {
    "name": "ipython",
    "version": 3
   },
   "file_extension": ".py",
   "mimetype": "text/x-python",
   "name": "python",
   "nbconvert_exporter": "python",
   "pygments_lexer": "ipython3",
   "version": "3.7.4"
  }
 },
 "nbformat": 4,
 "nbformat_minor": 1
}
